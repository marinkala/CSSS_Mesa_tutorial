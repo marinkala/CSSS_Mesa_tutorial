{
 "cells": [
  {
   "cell_type": "markdown",
   "metadata": {
    "collapsed": true
   },
   "source": [
    "# Install by pip install git+https://github.com/tpike3/bilateralshapley.git"
   ]
  },
  {
   "cell_type": "code",
   "execution_count": 1,
   "metadata": {
    "collapsed": true
   },
   "outputs": [],
   "source": [
    "from mesa import Model\n",
    "from mesa.time import RandomActivation\n",
    "from mesa import Agent\n",
    "from BilateralShapley import BSV\n",
    "import numpy as np"
   ]
  },
  {
   "cell_type": "code",
   "execution_count": 2,
   "metadata": {
    "collapsed": true
   },
   "outputs": [],
   "source": [
    "class TestAgent(Agent):\n",
    "    '''Initialize agents with values for power and preference (in this case affinity as preference)'''\n",
    "    def __init__(self, unique_id, model, maxaffinity, maxeconomic, maxmilitary):\n",
    "        # use Mesa agent module\n",
    "        super().__init__(unique_id, model)\n",
    "        # preference attribute of each agent\n",
    "        self.affinity = np.random.uniform(1, maxaffinity)\n",
    "        # economic value of each agent which is combined with military for power\n",
    "        self.economic = np.random.uniform(1,maxeconomic)\n",
    "        # military value of each agent which is combined with economic for power\n",
    "        self.military = np.random.uniform(1,maxmilitary)\n",
    "        # calculate power as average economic and military power\n",
    "        self.power = (self.economic+self.military) / 2"
   ]
  },
  {
   "cell_type": "code",
   "execution_count": 3,
   "metadata": {
    "collapsed": true
   },
   "outputs": [],
   "source": [
    "class TestModel(Model):\n",
    "    '''Initialize model'''\n",
    "    def __init__(self, N, maxaffinity, maxeconomic, maxmilitary):\n",
    "        self.numagents = N\n",
    "        self.schedule = RandomActivation(self)\n",
    "        for i in range(self.numagents):\n",
    "            a = TestAgent(i, self, maxaffinity, maxeconomic, maxmilitary)\n",
    "            self.schedule.add(a)\n",
    "            \n",
    "    \n",
    "    '''Call the bsv module'''        \n",
    "    def execution(self):\n",
    "        testnet = BSV(self.schedule.agents, \"power\", \"affinity\", verbose = False)\n",
    "        return testnet    \n",
    "\n",
    "\n"
   ]
  },
  {
   "cell_type": "code",
   "execution_count": 4,
   "metadata": {
    "collapsed": false
   },
   "outputs": [
    {
     "name": "stdout",
     "output_type": "stream",
     "text": [
      "Numer of Groups:  123\n",
      "Group list:  ['13', '23', '26', '35', '41', '89', '104', '120', '133', '139', '196', '242', '256', '304', '337', '348', '374', '391', '396', '404', '408', '419', '476', '478', '488', '495', '81.137', '82.338', '103.481', '118.327', '130.455', '136.406', '142.497', '166.483', '194.445', '225.308', '235.333', '261.456', '324.352', '376.385', '378.433', '266.129.150', '331.94.382', '467.299.384', '0.318.117.418', '8.107.46.64', '11.301.280.288', '17.108.95.219', '18.409.291.407', '24.429.267.485', '33.307.162.282', '39.260.87.413', '40.332.236.369', '50.340.105.346', '52.246.170.191', '54.359.198.494', '65.415.435.472', '66.402.178.452', '83.314.279.471', '92.320.135.449', '97.185.128.482', '106.251.351.368', '115.122.361.464', '161.241.165.181', '168.255.363.405', '169.284.206.239', '73.55.303.230.417', '229.200.295.202.223', '423.48.121.265.398', '453.67.214.315.428', '32.112.15.147.110.334', '42.250.313.119.388', '63.80.99.28.446', '100.395.59.151.149.226', '144.357.25.387.163.193', '231.233.74.427.102.268', '248.463.362.228.432', '262.475.19.84.421.459', '276.431.222.479.293.399', '51.189.487.154.489.443.469', '145.210.440.71.367.93.370', '232.247.447.14.31.278.410', '312.201.492.16.172.156.197', '466.88.371.61.336.177.179', '2.310.132.175.34.425.47.420', '3.188.70.208.116.126.358.493', '4.68.79.245.184.470.234.468', '5.164.192.390.343.436.393.490', '20.205.98.450.43.355.330.356', '22.302.403.422.134.498.264.480', '37.212.211.380.77.451.138.341', '38.457.274.392.124.180.167.277', '49.140.444.458.111.454.123.465', '57.484.174.360.78.300.143.252', '58.342.270.438.253.319.263.365', '60.473.217.430.182.325.227.353', '72.131.329.347.155.244.158.389', '86.424.283.412.127.316.160.297', '183.401.286.339.213.254.218.309', '190.379.322.448.224.411.271.335', '375.9.101.273.296.53.439.85.394', '21.441.91.442.1.377.176.249.289.366', '36.272.204.414.215.462.69.269.153.345', '44.199.243.397.364.6.237.29.426', '62.386.258.381.186.486.30.281.220.344', '96.152.292.373.238.434.10.76.187.195', '287.328.298.317.157.159.461.171.416', '173.109.146.12.45.75.323.125.203.400.491.221.321.290.349', '306.257.311.56.354.113.285.27.294.209.275.216.499.259.460', '7.372.148.350.240.496.305.326.90.383.141.207.114.477.437.474', '31', '49', '381', '173', '109', '146', '400', '257', '311', '285', '460', '305', '326']\n"
     ]
    }
   ],
   "source": [
    "# input parameters - number of agents, maximum affinity, max economic power, max military power\n",
    "test = TestModel(500, 20, 100, 100)\n",
    "test = test.execution()\n",
    "print (\"Numer of Groups: \", len(test.result))\n",
    "print (\"Group list: \", test.result)"
   ]
  },
  {
   "cell_type": "code",
   "execution_count": null,
   "metadata": {
    "collapsed": true
   },
   "outputs": [],
   "source": []
  }
 ],
 "metadata": {
  "kernelspec": {
   "display_name": "Python 3",
   "language": "python",
   "name": "python3"
  },
  "language_info": {
   "codemirror_mode": {
    "name": "ipython",
    "version": 3
   },
   "file_extension": ".py",
   "mimetype": "text/x-python",
   "name": "python",
   "nbconvert_exporter": "python",
   "pygments_lexer": "ipython3",
   "version": "3.6.0"
  }
 },
 "nbformat": 4,
 "nbformat_minor": 2
}
